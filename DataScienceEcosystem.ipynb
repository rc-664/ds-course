{
 "cells": [
  {
   "cell_type": "markdown",
   "id": "7bfa0b74-5dd8-48a2-aa21-4f1d11d2c381",
   "metadata": {},
   "source": [
    "# Data Science Tools and Ecosystem"
   ]
  },
  {
   "cell_type": "markdown",
   "id": "307bd09f-a239-41bd-b657-11b688d2d3f6",
   "metadata": {},
   "source": [
    "In this notebook, Data Science Tools and Ecosystem are summarized."
   ]
  },
  {
   "cell_type": "markdown",
   "id": "1e1837d1-ed60-48e1-ac72-49501c9c7d76",
   "metadata": {},
   "source": [
    "Some of the popular languages that Data Scientists use are:\n",
    "\n",
    "1. Python\n",
    "2. R\n",
    "3. Julia"
   ]
  },
  {
   "cell_type": "markdown",
   "id": "3ca14065-9f68-429f-bd68-1105f001140b",
   "metadata": {},
   "source": [
    "Some of the commonly used libraries used by Data Scientists include\n",
    "\n",
    "1. pandas\n",
    "2. TensorFlow\n",
    "3. numpy"
   ]
  },
  {
   "cell_type": "markdown",
   "id": "d27dc858-0bf0-42e0-8368-169161ce68ef",
   "metadata": {},
   "source": [
    "Data Science Tools\n",
    "\n",
    "-  Jupyter notebooks\n",
    "-  RStudio\n",
    "-  Vscode"
   ]
  },
  {
   "cell_type": "markdown",
   "id": "b367f76c-efa7-4fe8-8cf0-5d7b67c35aac",
   "metadata": {},
   "source": [
    "### Below are a few examples of evaluating arithmetic expressions in Python"
   ]
  },
  {
   "cell_type": "code",
   "execution_count": 11,
   "id": "f358303b-b196-4d68-a80e-533ff607cd5b",
   "metadata": {},
   "outputs": [
    {
     "data": {
      "text/plain": [
       "17"
      ]
     },
     "execution_count": 11,
     "metadata": {},
     "output_type": "execute_result"
    }
   ],
   "source": [
    "# This a simple arithmetic expression to mutiply then add integers\n",
    "(3*4)+5"
   ]
  },
  {
   "cell_type": "code",
   "execution_count": 12,
   "id": "33e46eb5-b719-4b74-9944-f1ab0eefe443",
   "metadata": {},
   "outputs": [
    {
     "data": {
      "text/plain": [
       "3.3333333333333335"
      ]
     },
     "execution_count": 12,
     "metadata": {},
     "output_type": "execute_result"
    }
   ],
   "source": [
    "# This will convert 200 minutes to hours by diving by 60\n",
    "200/60"
   ]
  },
  {
   "cell_type": "markdown",
   "id": "05608d27-8752-46ae-819a-208f48ff15fe",
   "metadata": {},
   "source": [
    "**Objectives:**\n",
    "\n",
    "List popular languages for Data Science\n",
    "-  Python\n",
    "-  R\n",
    "-  Julia\n",
    "-  C\n",
    "-  C++\n",
    "  "
   ]
  },
  {
   "cell_type": "markdown",
   "id": "3f3cdefb-9f34-4f38-8722-ec17aa0d4ce4",
   "metadata": {},
   "source": [
    "## Author: RC"
   ]
  },
  {
   "cell_type": "code",
   "execution_count": null,
   "id": "771a0e0e-b6e4-4809-a7c1-315d845af13d",
   "metadata": {},
   "outputs": [],
   "source": []
  }
 ],
 "metadata": {
  "kernelspec": {
   "display_name": "Python 3 (ipykernel)",
   "language": "python",
   "name": "python3"
  },
  "language_info": {
   "codemirror_mode": {
    "name": "ipython",
    "version": 3
   },
   "file_extension": ".py",
   "mimetype": "text/x-python",
   "name": "python",
   "nbconvert_exporter": "python",
   "pygments_lexer": "ipython3",
   "version": "3.12.8"
  }
 },
 "nbformat": 4,
 "nbformat_minor": 5
}
